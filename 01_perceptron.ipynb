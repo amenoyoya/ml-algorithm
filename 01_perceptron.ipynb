{
 "cells": [
  {
   "cell_type": "code",
   "execution_count": 38,
   "metadata": {},
   "outputs": [
    {
     "data": {
      "text/plain": [
       "#41 (generic function with 1 method)"
      ]
     },
     "execution_count": 38,
     "metadata": {},
     "output_type": "execute_result"
    }
   ],
   "source": [
    "# 内積関数 dot を使えるようにする\n",
    "using LinearAlgebra\n",
    "\n",
    "# パーセプトロン\n",
    "## 信号を受け取り、[(<入力信号> * <重み>) + <バイアス>] から出力（0 | 1）を計算\n",
    "make_perceptron(weight::Array{Float64,1}, bias::Float64) = begin\n",
    "    # 入力信号x と 重みweight の内積に biasを加算した値が 0を超えているなら 1を返す\n",
    "    return (x::Array{Int,1}) -> dot(x, weight) + bias > 0 ? 1 : 0\n",
    "end\n",
    "\n",
    "# ANDパーセプトロン\n",
    "AND = make_perceptron([0.5, 0.5], -0.75)"
   ]
  },
  {
   "cell_type": "code",
   "execution_count": 39,
   "metadata": {},
   "outputs": [
    {
     "name": "stdout",
     "output_type": "stream",
     "text": [
      "[0, 0] => 0\n",
      "[0, 1] => 0\n",
      "[1, 0] => 0\n",
      "[1, 1] => 1\n"
     ]
    }
   ],
   "source": [
    "\"\"\"\n",
    "AND\n",
    "0, 0 => 0\n",
    "0, 1 => 0\n",
    "1, 0 => 0\n",
    "1, 1 => 1\n",
    "\"\"\"\n",
    "\n",
    "for x in [[0, 0], [0, 1], [1, 0], [1, 1]]\n",
    "    println(\"$(x) => $(AND(x))\")\n",
    "end"
   ]
  }
 ],
 "metadata": {
  "kernelspec": {
   "display_name": "Julia 1.1.1",
   "language": "julia",
   "name": "julia-1.1"
  },
  "language_info": {
   "file_extension": ".jl",
   "mimetype": "application/julia",
   "name": "julia",
   "version": "1.1.1"
  }
 },
 "nbformat": 4,
 "nbformat_minor": 2
}
