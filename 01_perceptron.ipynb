{
 "cells": [
  {
   "cell_type": "markdown",
   "metadata": {},
   "source": [
    "# パーセプトロン\n",
    "\n",
    "- **パーセプトロン**\n",
    "    - 1957年ローゼンブラットにより考案されたアルゴリズム\n",
    "    - 複数の信号を受け取り、一つの信号を出力する\n",
    "        - 出力する信号は「流す／流さない（1 or 0）」の二値\n",
    "        - 各入力信号には重要度があり、それを重みで表現する\n",
    "\n",
    "![perceptron](./img/perceptron.png)"
   ]
  },
  {
   "cell_type": "code",
   "execution_count": 1,
   "metadata": {},
   "outputs": [
    {
     "data": {
      "text/plain": [
       "make_perceptron (generic function with 1 method)"
      ]
     },
     "execution_count": 1,
     "metadata": {},
     "output_type": "execute_result"
    }
   ],
   "source": [
    "# 内積関数 dot を使えるようにする\n",
    "using LinearAlgebra\n",
    "\n",
    "# パーセプトロン\n",
    "## 信号を受け取り、<入力信号> * <重み> + <バイアス> から出力（0 | 1）を計算するパーセプトロン関数を生成\n",
    "make_perceptron(weight::Array{Float64,1}, bias::Float64) = begin\n",
    "    # 入力信号x と 重みweight の内積に biasを加算した値が 0を超えているなら 1を返す\n",
    "    return (x::Array{Int,1}) -> dot(x, weight) + bias > 0 ? 1 : 0\n",
    "end"
   ]
  },
  {
   "cell_type": "code",
   "execution_count": 2,
   "metadata": {},
   "outputs": [
    {
     "name": "stdout",
     "output_type": "stream",
     "text": [
      "[0, 0] => 0\n",
      "[0, 1] => 0\n",
      "[1, 0] => 0\n",
      "[1, 1] => 1\n"
     ]
    }
   ],
   "source": [
    "\"\"\"\n",
    "AND\n",
    "0, 0 => 0\n",
    "0, 1 => 0\n",
    "1, 0 => 0\n",
    "1, 1 => 1\n",
    "\"\"\"\n",
    "\n",
    "# ANDパーセプトロン\n",
    "## 重み: 0.5, 0.5\n",
    "## バイアス: -0.75\n",
    "AND = make_perceptron([0.5, 0.5], -0.75)\n",
    "\n",
    "for x in [[0, 0], [0, 1], [1, 0], [1, 1]]\n",
    "    println(\"$(x) => $(AND(x))\")\n",
    "end"
   ]
  },
  {
   "cell_type": "markdown",
   "metadata": {},
   "source": [
    "## パーセプトロンの数式の意味\n",
    "\n",
    "パーセプトロンにおいて、$w_i$ は**入力信号の重要度**、$b$ は**ニューロンの発火のしやすさ**を表す\n",
    "\n",
    "また、基本的に $\\sum_{i=1}^n w_i$ は 1 になり、$b$ の絶対値は 1 以下となる\n",
    "\n",
    "この前提のもと、ANDパーセプトロンのパラメータの意味を考える\n",
    "\n",
    "- $w_1, w_2$ ともに 0.5 であるため、2つの入力信号の重要度は変わらない\n",
    "    - 言い換えれば、2つの入力値の入力順を変えても結果は変わらない\n",
    "- $b$ は -0.75 であり、$ 0.25 - 1 $ に等しい\n",
    "    - つまり、25％の確率で発火し、75％の確率で発火しないことを意味する\n",
    "\n",
    "次に、実際のAND演算子を考えてみる\n",
    "\n",
    "- 2つの入力値は、入力順が変わっても出力値は変わらない\n",
    "    - $[0, 1] = [1, 0] = 0$\n",
    "- 入力値の4つの組み合わせ（$[0, 0], [0, 1], [1, 0], [1, 1]$）のうち、出力値が1（発火）になるのは1つ（$[1, 1]$）のみ\n",
    "    - 発火の確率は $1/4 = 0.25$ だから、25％\n",
    "\n",
    "このように、入力信号の重要度と発火のしやすさだけを考えれば、演算子のニューロンを組み立てることが可能である"
   ]
  },
  {
   "cell_type": "code",
   "execution_count": null,
   "metadata": {},
   "outputs": [],
   "source": []
  }
 ],
 "metadata": {
  "kernelspec": {
   "display_name": "Julia 1.1.1",
   "language": "julia",
   "name": "julia-1.1"
  },
  "language_info": {
   "file_extension": ".jl",
   "mimetype": "application/julia",
   "name": "julia",
   "version": "1.1.1"
  }
 },
 "nbformat": 4,
 "nbformat_minor": 2
}
