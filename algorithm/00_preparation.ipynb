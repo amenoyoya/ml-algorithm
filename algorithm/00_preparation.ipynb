{
 "cells": [
  {
   "cell_type": "markdown",
   "metadata": {},
   "source": [
    "# Julia + ScikitLearn\n",
    "\n",
    "## 動作確認\n",
    "\n",
    "### ScikitLearnのirisデータセットを読み込む\n",
    "- **sklearn.datasets.iris**\n",
    "    - アヤメのデータセット\n",
    "    - 特徴量:\n",
    "        - sepal length: ガクの長さ (cm)\n",
    "        - sepal width: ガクの幅 (cm)\n",
    "        - petal length: 花びらの長さ (cm)\n",
    "        - petal width: 花びらの幅 (cm)\n",
    "    - 目的変数:\n",
    "        - 品種: 0, 1, 2 の3種類に分類"
   ]
  },
  {
   "cell_type": "code",
   "execution_count": 6,
   "metadata": {},
   "outputs": [
    {
     "name": "stderr",
     "output_type": "stream",
     "text": [
      "WARNING: redefining constant load_iris\n"
     ]
    },
    {
     "data": {
      "text/plain": [
       "Dict{Any,Any} with 6 entries:\n",
       "  \"feature_names\" => [\"sepal length (cm)\", \"sepal width (cm)\", \"petal length (c…\n",
       "  \"target_names\"  => PyObject array(['setosa', 'versicolor', 'virginica'], dtyp…\n",
       "  \"data\"          => [5.1 3.5 1.4 0.2; 4.9 3.0 1.4 0.2; … ; 6.2 3.4 5.4 2.3; 5.…\n",
       "  \"filename\"      => \"C:\\\\Users\\\\user\\\\.julia\\\\conda\\\\3\\\\lib\\\\site-packages\\\\sk…\n",
       "  \"target\"        => Int32[0, 0, 0, 0, 0, 0, 0, 0, 0, 0  …  2, 2, 2, 2, 2, 2, 2…\n",
       "  \"DESCR\"         => \".. _iris_dataset:\\n\\nIris plants dataset\\n---------------…"
      ]
     },
     "execution_count": 6,
     "metadata": {},
     "output_type": "execute_result"
    }
   ],
   "source": [
    "# ScikitLearnパッケージを利用\n",
    "using ScikitLearn\n",
    "\n",
    "# from sklearn.datasets import load_iris\n",
    "@sk_import datasets: load_iris\n",
    "\n",
    "# irisデータセットをロード\n",
    "data = load_iris()"
   ]
  },
  {
   "cell_type": "code",
   "execution_count": 27,
   "metadata": {},
   "outputs": [
    {
     "data": {
      "text/html": [
       "<table class=\"data-frame\"><thead><tr><th></th><th>sepal length (cm)</th><th>sepal width (cm)</th><th>petal length (cm)</th><th>petal width (cm)</th></tr><tr><th></th><th>Float64</th><th>Float64</th><th>Float64</th><th>Float64</th></tr></thead><tbody><p>150 rows × 4 columns</p><tr><th>1</th><td>5.1</td><td>3.5</td><td>1.4</td><td>0.2</td></tr><tr><th>2</th><td>4.9</td><td>3.0</td><td>1.4</td><td>0.2</td></tr><tr><th>3</th><td>4.7</td><td>3.2</td><td>1.3</td><td>0.2</td></tr><tr><th>4</th><td>4.6</td><td>3.1</td><td>1.5</td><td>0.2</td></tr><tr><th>5</th><td>5.0</td><td>3.6</td><td>1.4</td><td>0.2</td></tr><tr><th>6</th><td>5.4</td><td>3.9</td><td>1.7</td><td>0.4</td></tr><tr><th>7</th><td>4.6</td><td>3.4</td><td>1.4</td><td>0.3</td></tr><tr><th>8</th><td>5.0</td><td>3.4</td><td>1.5</td><td>0.2</td></tr><tr><th>9</th><td>4.4</td><td>2.9</td><td>1.4</td><td>0.2</td></tr><tr><th>10</th><td>4.9</td><td>3.1</td><td>1.5</td><td>0.1</td></tr><tr><th>11</th><td>5.4</td><td>3.7</td><td>1.5</td><td>0.2</td></tr><tr><th>12</th><td>4.8</td><td>3.4</td><td>1.6</td><td>0.2</td></tr><tr><th>13</th><td>4.8</td><td>3.0</td><td>1.4</td><td>0.1</td></tr><tr><th>14</th><td>4.3</td><td>3.0</td><td>1.1</td><td>0.1</td></tr><tr><th>15</th><td>5.8</td><td>4.0</td><td>1.2</td><td>0.2</td></tr><tr><th>16</th><td>5.7</td><td>4.4</td><td>1.5</td><td>0.4</td></tr><tr><th>17</th><td>5.4</td><td>3.9</td><td>1.3</td><td>0.4</td></tr><tr><th>18</th><td>5.1</td><td>3.5</td><td>1.4</td><td>0.3</td></tr><tr><th>19</th><td>5.7</td><td>3.8</td><td>1.7</td><td>0.3</td></tr><tr><th>20</th><td>5.1</td><td>3.8</td><td>1.5</td><td>0.3</td></tr><tr><th>21</th><td>5.4</td><td>3.4</td><td>1.7</td><td>0.2</td></tr><tr><th>22</th><td>5.1</td><td>3.7</td><td>1.5</td><td>0.4</td></tr><tr><th>23</th><td>4.6</td><td>3.6</td><td>1.0</td><td>0.2</td></tr><tr><th>24</th><td>5.1</td><td>3.3</td><td>1.7</td><td>0.5</td></tr><tr><th>25</th><td>4.8</td><td>3.4</td><td>1.9</td><td>0.2</td></tr><tr><th>26</th><td>5.0</td><td>3.0</td><td>1.6</td><td>0.2</td></tr><tr><th>27</th><td>5.0</td><td>3.4</td><td>1.6</td><td>0.4</td></tr><tr><th>28</th><td>5.2</td><td>3.5</td><td>1.5</td><td>0.2</td></tr><tr><th>29</th><td>5.2</td><td>3.4</td><td>1.4</td><td>0.2</td></tr><tr><th>30</th><td>4.7</td><td>3.2</td><td>1.6</td><td>0.2</td></tr><tr><th>&vellip;</th><td>&vellip;</td><td>&vellip;</td><td>&vellip;</td><td>&vellip;</td></tr></tbody></table>"
      ],
      "text/latex": [
       "\\begin{tabular}{r|cccc}\n",
       "\t& sepal length (cm) & sepal width (cm) & petal length (cm) & petal width (cm)\\\\\n",
       "\t\\hline\n",
       "\t& Float64 & Float64 & Float64 & Float64\\\\\n",
       "\t\\hline\n",
       "\t1 & 5.1 & 3.5 & 1.4 & 0.2 \\\\\n",
       "\t2 & 4.9 & 3.0 & 1.4 & 0.2 \\\\\n",
       "\t3 & 4.7 & 3.2 & 1.3 & 0.2 \\\\\n",
       "\t4 & 4.6 & 3.1 & 1.5 & 0.2 \\\\\n",
       "\t5 & 5.0 & 3.6 & 1.4 & 0.2 \\\\\n",
       "\t6 & 5.4 & 3.9 & 1.7 & 0.4 \\\\\n",
       "\t7 & 4.6 & 3.4 & 1.4 & 0.3 \\\\\n",
       "\t8 & 5.0 & 3.4 & 1.5 & 0.2 \\\\\n",
       "\t9 & 4.4 & 2.9 & 1.4 & 0.2 \\\\\n",
       "\t10 & 4.9 & 3.1 & 1.5 & 0.1 \\\\\n",
       "\t11 & 5.4 & 3.7 & 1.5 & 0.2 \\\\\n",
       "\t12 & 4.8 & 3.4 & 1.6 & 0.2 \\\\\n",
       "\t13 & 4.8 & 3.0 & 1.4 & 0.1 \\\\\n",
       "\t14 & 4.3 & 3.0 & 1.1 & 0.1 \\\\\n",
       "\t15 & 5.8 & 4.0 & 1.2 & 0.2 \\\\\n",
       "\t16 & 5.7 & 4.4 & 1.5 & 0.4 \\\\\n",
       "\t17 & 5.4 & 3.9 & 1.3 & 0.4 \\\\\n",
       "\t18 & 5.1 & 3.5 & 1.4 & 0.3 \\\\\n",
       "\t19 & 5.7 & 3.8 & 1.7 & 0.3 \\\\\n",
       "\t20 & 5.1 & 3.8 & 1.5 & 0.3 \\\\\n",
       "\t21 & 5.4 & 3.4 & 1.7 & 0.2 \\\\\n",
       "\t22 & 5.1 & 3.7 & 1.5 & 0.4 \\\\\n",
       "\t23 & 4.6 & 3.6 & 1.0 & 0.2 \\\\\n",
       "\t24 & 5.1 & 3.3 & 1.7 & 0.5 \\\\\n",
       "\t25 & 4.8 & 3.4 & 1.9 & 0.2 \\\\\n",
       "\t26 & 5.0 & 3.0 & 1.6 & 0.2 \\\\\n",
       "\t27 & 5.0 & 3.4 & 1.6 & 0.4 \\\\\n",
       "\t28 & 5.2 & 3.5 & 1.5 & 0.2 \\\\\n",
       "\t29 & 5.2 & 3.4 & 1.4 & 0.2 \\\\\n",
       "\t30 & 4.7 & 3.2 & 1.6 & 0.2 \\\\\n",
       "\t$\\dots$ & $\\dots$ & $\\dots$ & $\\dots$ & $\\dots$ \\\\\n",
       "\\end{tabular}\n"
      ],
      "text/plain": [
       "150×4 DataFrame. Omitted printing of 1 columns\n",
       "│ Row │ sepal length (cm) │ sepal width (cm) │ petal length (cm) │\n",
       "│     │ \u001b[90mFloat64\u001b[39m           │ \u001b[90mFloat64\u001b[39m          │ \u001b[90mFloat64\u001b[39m           │\n",
       "├─────┼───────────────────┼──────────────────┼───────────────────┤\n",
       "│ 1   │ 5.1               │ 3.5              │ 1.4               │\n",
       "│ 2   │ 4.9               │ 3.0              │ 1.4               │\n",
       "│ 3   │ 4.7               │ 3.2              │ 1.3               │\n",
       "│ 4   │ 4.6               │ 3.1              │ 1.5               │\n",
       "│ 5   │ 5.0               │ 3.6              │ 1.4               │\n",
       "│ 6   │ 5.4               │ 3.9              │ 1.7               │\n",
       "│ 7   │ 4.6               │ 3.4              │ 1.4               │\n",
       "│ 8   │ 5.0               │ 3.4              │ 1.5               │\n",
       "│ 9   │ 4.4               │ 2.9              │ 1.4               │\n",
       "│ 10  │ 4.9               │ 3.1              │ 1.5               │\n",
       "⋮\n",
       "│ 140 │ 6.9               │ 3.1              │ 5.4               │\n",
       "│ 141 │ 6.7               │ 3.1              │ 5.6               │\n",
       "│ 142 │ 6.9               │ 3.1              │ 5.1               │\n",
       "│ 143 │ 5.8               │ 2.7              │ 5.1               │\n",
       "│ 144 │ 6.8               │ 3.2              │ 5.9               │\n",
       "│ 145 │ 6.7               │ 3.3              │ 5.7               │\n",
       "│ 146 │ 6.7               │ 3.0              │ 5.2               │\n",
       "│ 147 │ 6.3               │ 2.5              │ 5.0               │\n",
       "│ 148 │ 6.5               │ 3.0              │ 5.2               │\n",
       "│ 149 │ 6.2               │ 3.4              │ 5.4               │\n",
       "│ 150 │ 5.9               │ 3.0              │ 5.1               │"
      ]
     },
     "execution_count": 27,
     "metadata": {},
     "output_type": "execute_result"
    }
   ],
   "source": [
    "# DataFramesパッケージを利用\n",
    "using DataFrames: DataFrame, names!\n",
    "\n",
    "# 特徴データをDataFrame化\n",
    "X = DataFrame(data[\"data\"])\n",
    "\n",
    "# 列名を特徴量名に変更\n",
    "## JuliaのDataFrameは、列名をSymbol型にしなければならない\n",
    "names!(X, map(name -> Symbol(name), data[\"feature_names\"]))"
   ]
  },
  {
   "cell_type": "code",
   "execution_count": 28,
   "metadata": {},
   "outputs": [
    {
     "data": {
      "text/html": [
       "<table class=\"data-frame\"><thead><tr><th></th><th>Species</th></tr><tr><th></th><th>Int32</th></tr></thead><tbody><p>150 rows × 1 columns</p><tr><th>1</th><td>0</td></tr><tr><th>2</th><td>0</td></tr><tr><th>3</th><td>0</td></tr><tr><th>4</th><td>0</td></tr><tr><th>5</th><td>0</td></tr><tr><th>6</th><td>0</td></tr><tr><th>7</th><td>0</td></tr><tr><th>8</th><td>0</td></tr><tr><th>9</th><td>0</td></tr><tr><th>10</th><td>0</td></tr><tr><th>11</th><td>0</td></tr><tr><th>12</th><td>0</td></tr><tr><th>13</th><td>0</td></tr><tr><th>14</th><td>0</td></tr><tr><th>15</th><td>0</td></tr><tr><th>16</th><td>0</td></tr><tr><th>17</th><td>0</td></tr><tr><th>18</th><td>0</td></tr><tr><th>19</th><td>0</td></tr><tr><th>20</th><td>0</td></tr><tr><th>21</th><td>0</td></tr><tr><th>22</th><td>0</td></tr><tr><th>23</th><td>0</td></tr><tr><th>24</th><td>0</td></tr><tr><th>25</th><td>0</td></tr><tr><th>26</th><td>0</td></tr><tr><th>27</th><td>0</td></tr><tr><th>28</th><td>0</td></tr><tr><th>29</th><td>0</td></tr><tr><th>30</th><td>0</td></tr><tr><th>&vellip;</th><td>&vellip;</td></tr></tbody></table>"
      ],
      "text/latex": [
       "\\begin{tabular}{r|c}\n",
       "\t& Species\\\\\n",
       "\t\\hline\n",
       "\t& Int32\\\\\n",
       "\t\\hline\n",
       "\t1 & 0 \\\\\n",
       "\t2 & 0 \\\\\n",
       "\t3 & 0 \\\\\n",
       "\t4 & 0 \\\\\n",
       "\t5 & 0 \\\\\n",
       "\t6 & 0 \\\\\n",
       "\t7 & 0 \\\\\n",
       "\t8 & 0 \\\\\n",
       "\t9 & 0 \\\\\n",
       "\t10 & 0 \\\\\n",
       "\t11 & 0 \\\\\n",
       "\t12 & 0 \\\\\n",
       "\t13 & 0 \\\\\n",
       "\t14 & 0 \\\\\n",
       "\t15 & 0 \\\\\n",
       "\t16 & 0 \\\\\n",
       "\t17 & 0 \\\\\n",
       "\t18 & 0 \\\\\n",
       "\t19 & 0 \\\\\n",
       "\t20 & 0 \\\\\n",
       "\t21 & 0 \\\\\n",
       "\t22 & 0 \\\\\n",
       "\t23 & 0 \\\\\n",
       "\t24 & 0 \\\\\n",
       "\t25 & 0 \\\\\n",
       "\t26 & 0 \\\\\n",
       "\t27 & 0 \\\\\n",
       "\t28 & 0 \\\\\n",
       "\t29 & 0 \\\\\n",
       "\t30 & 0 \\\\\n",
       "\t$\\dots$ & $\\dots$ \\\\\n",
       "\\end{tabular}\n"
      ],
      "text/plain": [
       "150×1 DataFrame\n",
       "│ Row │ Species │\n",
       "│     │ \u001b[90mInt32\u001b[39m   │\n",
       "├─────┼─────────┤\n",
       "│ 1   │ 0       │\n",
       "│ 2   │ 0       │\n",
       "│ 3   │ 0       │\n",
       "│ 4   │ 0       │\n",
       "│ 5   │ 0       │\n",
       "│ 6   │ 0       │\n",
       "│ 7   │ 0       │\n",
       "│ 8   │ 0       │\n",
       "│ 9   │ 0       │\n",
       "│ 10  │ 0       │\n",
       "⋮\n",
       "│ 140 │ 2       │\n",
       "│ 141 │ 2       │\n",
       "│ 142 │ 2       │\n",
       "│ 143 │ 2       │\n",
       "│ 144 │ 2       │\n",
       "│ 145 │ 2       │\n",
       "│ 146 │ 2       │\n",
       "│ 147 │ 2       │\n",
       "│ 148 │ 2       │\n",
       "│ 149 │ 2       │\n",
       "│ 150 │ 2       │"
      ]
     },
     "execution_count": 28,
     "metadata": {},
     "output_type": "execute_result"
    }
   ],
   "source": [
    "# 目的変数をDataFrame化\n",
    "y = DataFrame(Species=data[\"target\"])"
   ]
  },
  {
   "cell_type": "code",
   "execution_count": 30,
   "metadata": {},
   "outputs": [
    {
     "data": {
      "text/html": [
       "<table class=\"data-frame\"><thead><tr><th></th><th>sepal length (cm)</th><th>sepal width (cm)</th><th>petal length (cm)</th><th>petal width (cm)</th><th>Species</th></tr><tr><th></th><th>Float64</th><th>Float64</th><th>Float64</th><th>Float64</th><th>Int32</th></tr></thead><tbody><p>150 rows × 5 columns</p><tr><th>1</th><td>5.1</td><td>3.5</td><td>1.4</td><td>0.2</td><td>0</td></tr><tr><th>2</th><td>4.9</td><td>3.0</td><td>1.4</td><td>0.2</td><td>0</td></tr><tr><th>3</th><td>4.7</td><td>3.2</td><td>1.3</td><td>0.2</td><td>0</td></tr><tr><th>4</th><td>4.6</td><td>3.1</td><td>1.5</td><td>0.2</td><td>0</td></tr><tr><th>5</th><td>5.0</td><td>3.6</td><td>1.4</td><td>0.2</td><td>0</td></tr><tr><th>6</th><td>5.4</td><td>3.9</td><td>1.7</td><td>0.4</td><td>0</td></tr><tr><th>7</th><td>4.6</td><td>3.4</td><td>1.4</td><td>0.3</td><td>0</td></tr><tr><th>8</th><td>5.0</td><td>3.4</td><td>1.5</td><td>0.2</td><td>0</td></tr><tr><th>9</th><td>4.4</td><td>2.9</td><td>1.4</td><td>0.2</td><td>0</td></tr><tr><th>10</th><td>4.9</td><td>3.1</td><td>1.5</td><td>0.1</td><td>0</td></tr><tr><th>11</th><td>5.4</td><td>3.7</td><td>1.5</td><td>0.2</td><td>0</td></tr><tr><th>12</th><td>4.8</td><td>3.4</td><td>1.6</td><td>0.2</td><td>0</td></tr><tr><th>13</th><td>4.8</td><td>3.0</td><td>1.4</td><td>0.1</td><td>0</td></tr><tr><th>14</th><td>4.3</td><td>3.0</td><td>1.1</td><td>0.1</td><td>0</td></tr><tr><th>15</th><td>5.8</td><td>4.0</td><td>1.2</td><td>0.2</td><td>0</td></tr><tr><th>16</th><td>5.7</td><td>4.4</td><td>1.5</td><td>0.4</td><td>0</td></tr><tr><th>17</th><td>5.4</td><td>3.9</td><td>1.3</td><td>0.4</td><td>0</td></tr><tr><th>18</th><td>5.1</td><td>3.5</td><td>1.4</td><td>0.3</td><td>0</td></tr><tr><th>19</th><td>5.7</td><td>3.8</td><td>1.7</td><td>0.3</td><td>0</td></tr><tr><th>20</th><td>5.1</td><td>3.8</td><td>1.5</td><td>0.3</td><td>0</td></tr><tr><th>21</th><td>5.4</td><td>3.4</td><td>1.7</td><td>0.2</td><td>0</td></tr><tr><th>22</th><td>5.1</td><td>3.7</td><td>1.5</td><td>0.4</td><td>0</td></tr><tr><th>23</th><td>4.6</td><td>3.6</td><td>1.0</td><td>0.2</td><td>0</td></tr><tr><th>24</th><td>5.1</td><td>3.3</td><td>1.7</td><td>0.5</td><td>0</td></tr><tr><th>25</th><td>4.8</td><td>3.4</td><td>1.9</td><td>0.2</td><td>0</td></tr><tr><th>26</th><td>5.0</td><td>3.0</td><td>1.6</td><td>0.2</td><td>0</td></tr><tr><th>27</th><td>5.0</td><td>3.4</td><td>1.6</td><td>0.4</td><td>0</td></tr><tr><th>28</th><td>5.2</td><td>3.5</td><td>1.5</td><td>0.2</td><td>0</td></tr><tr><th>29</th><td>5.2</td><td>3.4</td><td>1.4</td><td>0.2</td><td>0</td></tr><tr><th>30</th><td>4.7</td><td>3.2</td><td>1.6</td><td>0.2</td><td>0</td></tr><tr><th>&vellip;</th><td>&vellip;</td><td>&vellip;</td><td>&vellip;</td><td>&vellip;</td><td>&vellip;</td></tr></tbody></table>"
      ],
      "text/latex": [
       "\\begin{tabular}{r|ccccc}\n",
       "\t& sepal length (cm) & sepal width (cm) & petal length (cm) & petal width (cm) & Species\\\\\n",
       "\t\\hline\n",
       "\t& Float64 & Float64 & Float64 & Float64 & Int32\\\\\n",
       "\t\\hline\n",
       "\t1 & 5.1 & 3.5 & 1.4 & 0.2 & 0 \\\\\n",
       "\t2 & 4.9 & 3.0 & 1.4 & 0.2 & 0 \\\\\n",
       "\t3 & 4.7 & 3.2 & 1.3 & 0.2 & 0 \\\\\n",
       "\t4 & 4.6 & 3.1 & 1.5 & 0.2 & 0 \\\\\n",
       "\t5 & 5.0 & 3.6 & 1.4 & 0.2 & 0 \\\\\n",
       "\t6 & 5.4 & 3.9 & 1.7 & 0.4 & 0 \\\\\n",
       "\t7 & 4.6 & 3.4 & 1.4 & 0.3 & 0 \\\\\n",
       "\t8 & 5.0 & 3.4 & 1.5 & 0.2 & 0 \\\\\n",
       "\t9 & 4.4 & 2.9 & 1.4 & 0.2 & 0 \\\\\n",
       "\t10 & 4.9 & 3.1 & 1.5 & 0.1 & 0 \\\\\n",
       "\t11 & 5.4 & 3.7 & 1.5 & 0.2 & 0 \\\\\n",
       "\t12 & 4.8 & 3.4 & 1.6 & 0.2 & 0 \\\\\n",
       "\t13 & 4.8 & 3.0 & 1.4 & 0.1 & 0 \\\\\n",
       "\t14 & 4.3 & 3.0 & 1.1 & 0.1 & 0 \\\\\n",
       "\t15 & 5.8 & 4.0 & 1.2 & 0.2 & 0 \\\\\n",
       "\t16 & 5.7 & 4.4 & 1.5 & 0.4 & 0 \\\\\n",
       "\t17 & 5.4 & 3.9 & 1.3 & 0.4 & 0 \\\\\n",
       "\t18 & 5.1 & 3.5 & 1.4 & 0.3 & 0 \\\\\n",
       "\t19 & 5.7 & 3.8 & 1.7 & 0.3 & 0 \\\\\n",
       "\t20 & 5.1 & 3.8 & 1.5 & 0.3 & 0 \\\\\n",
       "\t21 & 5.4 & 3.4 & 1.7 & 0.2 & 0 \\\\\n",
       "\t22 & 5.1 & 3.7 & 1.5 & 0.4 & 0 \\\\\n",
       "\t23 & 4.6 & 3.6 & 1.0 & 0.2 & 0 \\\\\n",
       "\t24 & 5.1 & 3.3 & 1.7 & 0.5 & 0 \\\\\n",
       "\t25 & 4.8 & 3.4 & 1.9 & 0.2 & 0 \\\\\n",
       "\t26 & 5.0 & 3.0 & 1.6 & 0.2 & 0 \\\\\n",
       "\t27 & 5.0 & 3.4 & 1.6 & 0.4 & 0 \\\\\n",
       "\t28 & 5.2 & 3.5 & 1.5 & 0.2 & 0 \\\\\n",
       "\t29 & 5.2 & 3.4 & 1.4 & 0.2 & 0 \\\\\n",
       "\t30 & 4.7 & 3.2 & 1.6 & 0.2 & 0 \\\\\n",
       "\t$\\dots$ & $\\dots$ & $\\dots$ & $\\dots$ & $\\dots$ & $\\dots$ \\\\\n",
       "\\end{tabular}\n"
      ],
      "text/plain": [
       "150×5 DataFrame. Omitted printing of 2 columns\n",
       "│ Row │ sepal length (cm) │ sepal width (cm) │ petal length (cm) │\n",
       "│     │ \u001b[90mFloat64\u001b[39m           │ \u001b[90mFloat64\u001b[39m          │ \u001b[90mFloat64\u001b[39m           │\n",
       "├─────┼───────────────────┼──────────────────┼───────────────────┤\n",
       "│ 1   │ 5.1               │ 3.5              │ 1.4               │\n",
       "│ 2   │ 4.9               │ 3.0              │ 1.4               │\n",
       "│ 3   │ 4.7               │ 3.2              │ 1.3               │\n",
       "│ 4   │ 4.6               │ 3.1              │ 1.5               │\n",
       "│ 5   │ 5.0               │ 3.6              │ 1.4               │\n",
       "│ 6   │ 5.4               │ 3.9              │ 1.7               │\n",
       "│ 7   │ 4.6               │ 3.4              │ 1.4               │\n",
       "│ 8   │ 5.0               │ 3.4              │ 1.5               │\n",
       "│ 9   │ 4.4               │ 2.9              │ 1.4               │\n",
       "│ 10  │ 4.9               │ 3.1              │ 1.5               │\n",
       "⋮\n",
       "│ 140 │ 6.9               │ 3.1              │ 5.4               │\n",
       "│ 141 │ 6.7               │ 3.1              │ 5.6               │\n",
       "│ 142 │ 6.9               │ 3.1              │ 5.1               │\n",
       "│ 143 │ 5.8               │ 2.7              │ 5.1               │\n",
       "│ 144 │ 6.8               │ 3.2              │ 5.9               │\n",
       "│ 145 │ 6.7               │ 3.3              │ 5.7               │\n",
       "│ 146 │ 6.7               │ 3.0              │ 5.2               │\n",
       "│ 147 │ 6.3               │ 2.5              │ 5.0               │\n",
       "│ 148 │ 6.5               │ 3.0              │ 5.2               │\n",
       "│ 149 │ 6.2               │ 3.4              │ 5.4               │\n",
       "│ 150 │ 5.9               │ 3.0              │ 5.1               │"
      ]
     },
     "execution_count": 30,
     "metadata": {},
     "output_type": "execute_result"
    }
   ],
   "source": [
    "# 特徴量データと目的変数データを結合し、一つのDataFrameにする\n",
    "df = hcat(X, y)"
   ]
  },
  {
   "cell_type": "markdown",
   "metadata": {},
   "source": [
    "## 教師あり学習\n",
    "\n",
    "### 分類問題\n",
    "- データ: アメリカウィスコンシン州の乳がんのデータ\n",
    "    - データ数: 569個\n",
    "        - 悪性（M）: 212個\n",
    "        - 良性（B）: 357個\n",
    "    - 特徴量: 30項目\n",
    "        - 半径、テクスチャ、面積など10項目\n",
    "        - 各項目ごとに、平均値、エラー値、最悪値の3つの値\n",
    "    - 目的変数: 0（悪性）, 1（良性）の2値分類"
   ]
  },
  {
   "cell_type": "code",
   "execution_count": 32,
   "metadata": {},
   "outputs": [
    {
     "data": {
      "text/plain": [
       "Dict{Any,Any} with 6 entries:\n",
       "  \"feature_names\" => PyObject array(['mean radius', 'mean texture', 'mean perim…\n",
       "  \"target_names\"  => PyObject array(['malignant', 'benign'], dtype='<U9')\n",
       "  \"data\"          => [17.99 10.38 … 0.4601 0.1189; 20.57 17.77 … 0.275 0.08902;…\n",
       "  \"filename\"      => \"C:\\\\Users\\\\user\\\\.julia\\\\conda\\\\3\\\\lib\\\\site-packages\\\\sk…\n",
       "  \"target\"        => Int32[0, 0, 0, 0, 0, 0, 0, 0, 0, 0  …  1, 1, 1, 0, 0, 0, 0…\n",
       "  \"DESCR\"         => \".. _breast_cancer_dataset:\\n\\nBreast cancer wisconsin (di…"
      ]
     },
     "execution_count": 32,
     "metadata": {},
     "output_type": "execute_result"
    }
   ],
   "source": [
    "# ScikitLearnの breast_cencer データセットを読み込む\n",
    "@sk_import datasets: load_breast_cancer\n",
    "\n",
    "data = load_breast_cancer()"
   ]
  },
  {
   "cell_type": "code",
   "execution_count": 42,
   "metadata": {},
   "outputs": [
    {
     "data": {
      "text/plain": [
       "([17.99 10.38 … 0.4601 0.1189; 20.57 17.77 … 0.275 0.08902; … ; 20.6 29.33 … 0.4087 0.124; 7.76 24.54 … 0.2871 0.07039], Int32[0, 0, 0, 0, 0, 0, 0, 0, 0, 0  …  1, 1, 1, 0, 0, 0, 0, 0, 0, 1])"
      ]
     },
     "execution_count": 42,
     "metadata": {},
     "output_type": "execute_result"
    }
   ],
   "source": [
    "X = data[\"data\"]   # 特徴量\n",
    "y = data[\"target\"] # 目的変数\n",
    "X, y"
   ]
  },
  {
   "cell_type": "code",
   "execution_count": 36,
   "metadata": {},
   "outputs": [
    {
     "data": {
      "text/plain": [
       "212"
      ]
     },
     "execution_count": 36,
     "metadata": {},
     "output_type": "execute_result"
    }
   ],
   "source": [
    "# 悪性（y == 0）のデータ数を確認\n",
    "length(y[y .== 0])"
   ]
  },
  {
   "cell_type": "code",
   "execution_count": 43,
   "metadata": {},
   "outputs": [
    {
     "data": {
      "text/plain": [
       "PyObject array(['mean radius', 'mean texture', 'mean perimeter', 'mean area',\n",
       "       'mean smoothness', 'mean compactness', 'mean concavity',\n",
       "       'mean concave points', 'mean symmetry', 'mean fractal dimension',\n",
       "       'radius error', 'texture error', 'perimeter error', 'area error',\n",
       "       'smoothness error', 'compactness error', 'concavity error',\n",
       "       'concave points error', 'symmetry error',\n",
       "       'fractal dimension error', 'worst radius', 'worst texture',\n",
       "       'worst perimeter', 'worst area', 'worst smoothness',\n",
       "       'worst compactness', 'worst concavity', 'worst concave points',\n",
       "       'worst symmetry', 'worst fractal dimension'], dtype='<U23')"
      ]
     },
     "execution_count": 43,
     "metadata": {},
     "output_type": "execute_result"
    }
   ],
   "source": [
    "# 特徴量並び順を確認\n",
    "data[\"feature_names\"]"
   ]
  },
  {
   "cell_type": "code",
   "execution_count": 44,
   "metadata": {},
   "outputs": [
    {
     "data": {
      "text/plain": [
       "569×30 Array{Float64,2}:\n",
       " 17.99   10.38  122.8   1001.0  0.1184   …  0.7119  0.2654   0.4601  0.1189 \n",
       " 20.57   17.77  132.9   1326.0  0.08474     0.2416  0.186    0.275   0.08902\n",
       " 19.69   21.25  130.0   1203.0  0.1096      0.4504  0.243    0.3613  0.08758\n",
       " 11.42   20.38   77.58   386.1  0.1425      0.6869  0.2575   0.6638  0.173  \n",
       " 20.29   14.34  135.1   1297.0  0.1003      0.4     0.1625   0.2364  0.07678\n",
       " 12.45   15.7    82.57   477.1  0.1278   …  0.5355  0.1741   0.3985  0.1244 \n",
       " 18.25   19.98  119.6   1040.0  0.09463     0.3784  0.1932   0.3063  0.08368\n",
       " 13.71   20.83   90.2    577.9  0.1189      0.2678  0.1556   0.3196  0.1151 \n",
       " 13.0    21.82   87.5    519.8  0.1273      0.539   0.206    0.4378  0.1072 \n",
       " 12.46   24.04   83.97   475.9  0.1186      1.105   0.221    0.4366  0.2075 \n",
       " 16.02   23.24  102.7    797.8  0.08206  …  0.1459  0.09975  0.2948  0.08452\n",
       " 15.78   17.89  103.6    781.0  0.0971      0.3965  0.181    0.3792  0.1048 \n",
       " 19.17   24.8   132.4   1123.0  0.0974      0.3639  0.1767   0.3176  0.1023 \n",
       "  ⋮                                      ⋱                                  \n",
       "  9.423  27.88   59.26   271.3  0.08123     0.0     0.0      0.2475  0.06969\n",
       " 14.59   22.68   96.39   657.1  0.08473     0.3662  0.1105   0.2258  0.08004\n",
       " 11.51   23.93   74.52   403.5  0.09261     0.363   0.09653  0.2112  0.08732\n",
       " 14.05   27.15   91.38   600.4  0.09929  …  0.1326  0.1048   0.225   0.08321\n",
       " 11.2    29.37   70.67   386.0  0.07449     0.0     0.0      0.1566  0.05905\n",
       " 15.22   30.62  103.4    716.9  0.1048      1.17    0.2356   0.4089  0.1409 \n",
       " 20.92   25.09  143.0   1347.0  0.1099      0.6599  0.2542   0.2929  0.09873\n",
       " 21.56   22.39  142.0   1479.0  0.111       0.4107  0.2216   0.206   0.07115\n",
       " 20.13   28.25  131.2   1261.0  0.0978   …  0.3215  0.1628   0.2572  0.06637\n",
       " 16.6    28.08  108.3    858.1  0.08455     0.3403  0.1418   0.2218  0.0782 \n",
       " 20.6    29.33  140.1   1265.0  0.1178      0.9387  0.265    0.4087  0.124  \n",
       "  7.76   24.54   47.92   181.0  0.05263     0.0     0.0      0.2871  0.07039"
      ]
     },
     "execution_count": 44,
     "metadata": {},
     "output_type": "execute_result"
    }
   ],
   "source": [
    "# 特徴量のデータを確認\n",
    "X"
   ]
  },
  {
   "cell_type": "code",
   "execution_count": 46,
   "metadata": {},
   "outputs": [
    {
     "data": {
      "text/plain": [
       "569×10 Array{Float64,2}:\n",
       " 17.99   10.38  122.8   1001.0  0.1184   …  0.3001   0.1471   0.2419  0.07871\n",
       " 20.57   17.77  132.9   1326.0  0.08474     0.0869   0.07017  0.1812  0.05667\n",
       " 19.69   21.25  130.0   1203.0  0.1096      0.1974   0.1279   0.2069  0.05999\n",
       " 11.42   20.38   77.58   386.1  0.1425      0.2414   0.1052   0.2597  0.09744\n",
       " 20.29   14.34  135.1   1297.0  0.1003      0.198    0.1043   0.1809  0.05883\n",
       " 12.45   15.7    82.57   477.1  0.1278   …  0.1578   0.08089  0.2087  0.07613\n",
       " 18.25   19.98  119.6   1040.0  0.09463     0.1127   0.074    0.1794  0.05742\n",
       " 13.71   20.83   90.2    577.9  0.1189      0.09366  0.05985  0.2196  0.07451\n",
       " 13.0    21.82   87.5    519.8  0.1273      0.1859   0.09353  0.235   0.07389\n",
       " 12.46   24.04   83.97   475.9  0.1186      0.2273   0.08543  0.203   0.08243\n",
       " 16.02   23.24  102.7    797.8  0.08206  …  0.03299  0.03323  0.1528  0.05697\n",
       " 15.78   17.89  103.6    781.0  0.0971      0.09954  0.06606  0.1842  0.06082\n",
       " 19.17   24.8   132.4   1123.0  0.0974      0.2065   0.1118   0.2397  0.078  \n",
       "  ⋮                                      ⋱                                   \n",
       "  9.423  27.88   59.26   271.3  0.08123     0.0      0.0      0.1742  0.06059\n",
       " 14.59   22.68   96.39   657.1  0.08473     0.1029   0.03736  0.1454  0.06147\n",
       " 11.51   23.93   74.52   403.5  0.09261     0.1112   0.04105  0.1388  0.0657 \n",
       " 14.05   27.15   91.38   600.4  0.09929  …  0.04462  0.04304  0.1537  0.06171\n",
       " 11.2    29.37   70.67   386.0  0.07449     0.0      0.0      0.106   0.05502\n",
       " 15.22   30.62  103.4    716.9  0.1048      0.255    0.09429  0.2128  0.07152\n",
       " 20.92   25.09  143.0   1347.0  0.1099      0.3174   0.1474   0.2149  0.06879\n",
       " 21.56   22.39  142.0   1479.0  0.111       0.2439   0.1389   0.1726  0.05623\n",
       " 20.13   28.25  131.2   1261.0  0.0978   …  0.144    0.09791  0.1752  0.05533\n",
       " 16.6    28.08  108.3    858.1  0.08455     0.09251  0.05302  0.159   0.05648\n",
       " 20.6    29.33  140.1   1265.0  0.1178      0.3514   0.152    0.2397  0.07016\n",
       "  7.76   24.54   47.92   181.0  0.05263     0.0      0.0      0.1587  0.05884"
      ]
     },
     "execution_count": 46,
     "metadata": {},
     "output_type": "execute_result"
    }
   ],
   "source": [
    "\"\"\"\n",
    "上記より、特徴量は\n",
    "平均値10項目分, エラー値10項目分, 最悪値10項目分\n",
    "の並びでデータが格納されている\n",
    "\"\"\"\n",
    "# 今回は平均値のみ特徴量として採用することにする\n",
    "## => 行: すべて, 列: 1列目～10列目 を切り出す\n",
    "X = X[:, 1:10]"
   ]
  },
  {
   "cell_type": "code",
   "execution_count": 31,
   "metadata": {},
   "outputs": [
    {
     "data": {
      "text/plain": [
       "PyObject LogisticRegression(C=1.0, class_weight=None, dual=False, fit_intercept=True,\n",
       "                   intercept_scaling=1, l1_ratio=None, max_iter=100,\n",
       "                   multi_class='warn', n_jobs=None, penalty='l2',\n",
       "                   random_state=None, solver='warn', tol=0.0001, verbose=0,\n",
       "                   warm_start=False)"
      ]
     },
     "execution_count": 31,
     "metadata": {},
     "output_type": "execute_result"
    }
   ],
   "source": [
    "# 分類問題 -> ロジスティクス回帰を採用\n",
    "@sk_import linear_model: LogisticRegression\n",
    "\n",
    "model = LogisticRegression()"
   ]
  },
  {
   "cell_type": "code",
   "execution_count": 47,
   "metadata": {},
   "outputs": [
    {
     "name": "stderr",
     "output_type": "stream",
     "text": [
      "C:\\Users\\user\\.julia\\conda\\3\\lib\\site-packages\\sklearn\\linear_model\\logistic.py:432: FutureWarning: Default solver will be changed to 'lbfgs' in 0.22. Specify a solver to silence this warning.\r\n",
      "  FutureWarning)\r\n"
     ]
    },
    {
     "data": {
      "text/plain": [
       "PyObject LogisticRegression(C=1.0, class_weight=None, dual=False, fit_intercept=True,\n",
       "                   intercept_scaling=1, l1_ratio=None, max_iter=100,\n",
       "                   multi_class='warn', n_jobs=None, penalty='l2',\n",
       "                   random_state=None, solver='warn', tol=0.0001, verbose=0,\n",
       "                   warm_start=False)"
      ]
     },
     "execution_count": 47,
     "metadata": {},
     "output_type": "execute_result"
    }
   ],
   "source": [
    "# ロジスティック回帰モデルで教師データを学習\n",
    "fit!(model, X, y)"
   ]
  },
  {
   "cell_type": "code",
   "execution_count": 48,
   "metadata": {},
   "outputs": [
    {
     "data": {
      "text/plain": [
       "569-element Array{Int32,1}:\n",
       " 0\n",
       " 0\n",
       " 0\n",
       " 1\n",
       " 0\n",
       " 1\n",
       " 0\n",
       " 1\n",
       " 0\n",
       " 0\n",
       " 0\n",
       " 0\n",
       " 0\n",
       " ⋮\n",
       " 1\n",
       " 0\n",
       " 1\n",
       " 0\n",
       " 1\n",
       " 0\n",
       " 0\n",
       " 0\n",
       " 0\n",
       " 0\n",
       " 0\n",
       " 1"
      ]
     },
     "execution_count": 48,
     "metadata": {},
     "output_type": "execute_result"
    }
   ],
   "source": [
    "# 上記で訓練を行った学習済みモデルを用いて、予測を行う\n",
    "## 10項目の特徴量 から 目的変数（悪性, 良性 の２値）を予測\n",
    "y_pred = predict(model, X)"
   ]
  },
  {
   "cell_type": "code",
   "execution_count": 49,
   "metadata": {},
   "outputs": [
    {
     "data": {
      "text/plain": [
       "0.9086115992970123"
      ]
     },
     "execution_count": 49,
     "metadata": {},
     "output_type": "execute_result"
    }
   ],
   "source": [
    "# 上記予測結果が正確か評価する\n",
    "@sk_import metrics: accuracy_score\n",
    "\n",
    "# 正解率を算出\n",
    "accuracy_score(y, y_pred)"
   ]
  },
  {
   "cell_type": "markdown",
   "metadata": {},
   "source": [
    "#### 評価方法について\n",
    "本来、学習データと検証データは別に用意しておかなければならない\n",
    "\n",
    "上記のように、学習データを検証データとして使ってしまうと、未知のデータに対しても正確に予測できるモデルなのか評価することができない\n",
    "\n",
    "上記では正解率が約90％となっているが、これは既知の答え（目的変数）に近づけるようにパラメータを調整（学習）しているため、ある意味当然の結果である（特徴量と目的変数に明確な因果関係があればという前提ではあるが）\n",
    "\n",
    "これは、教師学習における過学習（オーバーフィッティング）とも関連する問題である\n",
    "\n",
    "また、評価方法についても、正解率だけでモデルの正確性を担保できるわけではないため、データの特性によってふさわしい評価方法を考える必要がある"
   ]
  },
  {
   "cell_type": "code",
   "execution_count": null,
   "metadata": {},
   "outputs": [],
   "source": []
  }
 ],
 "metadata": {
  "kernelspec": {
   "display_name": "Julia 1.1.1",
   "language": "julia",
   "name": "julia-1.1"
  },
  "language_info": {
   "file_extension": ".jl",
   "mimetype": "application/julia",
   "name": "julia",
   "version": "1.1.1"
  }
 },
 "nbformat": 4,
 "nbformat_minor": 2
}
