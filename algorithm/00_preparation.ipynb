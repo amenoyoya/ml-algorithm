{
 "cells": [
  {
   "cell_type": "markdown",
   "metadata": {},
   "source": [
    "# Julia + ScikitLearn\n",
    "\n",
    "## 動作確認\n",
    "\n",
    "### ScikitLearnのirisデータセットを読み込む\n",
    "- **sklearn.datasets.iris**\n",
    "    - アヤメのデータセット\n",
    "    - 特徴量:\n",
    "        - sepal length: ガクの長さ (cm)\n",
    "        - sepal width: ガクの幅 (cm)\n",
    "        - petal length: 花びらの長さ (cm)\n",
    "        - petal width: 花びらの幅 (cm)\n",
    "    - 目的変数:\n",
    "        - 品種: 0, 1, 2 の3種類に分類"
   ]
  },
  {
   "cell_type": "code",
   "execution_count": 6,
   "metadata": {},
   "outputs": [
    {
     "name": "stderr",
     "output_type": "stream",
     "text": [
      "WARNING: redefining constant load_iris\n"
     ]
    },
    {
     "data": {
      "text/plain": [
       "Dict{Any,Any} with 6 entries:\n",
       "  \"feature_names\" => [\"sepal length (cm)\", \"sepal width (cm)\", \"petal length (c…\n",
       "  \"target_names\"  => PyObject array(['setosa', 'versicolor', 'virginica'], dtyp…\n",
       "  \"data\"          => [5.1 3.5 1.4 0.2; 4.9 3.0 1.4 0.2; … ; 6.2 3.4 5.4 2.3; 5.…\n",
       "  \"filename\"      => \"C:\\\\Users\\\\user\\\\.julia\\\\conda\\\\3\\\\lib\\\\site-packages\\\\sk…\n",
       "  \"target\"        => Int32[0, 0, 0, 0, 0, 0, 0, 0, 0, 0  …  2, 2, 2, 2, 2, 2, 2…\n",
       "  \"DESCR\"         => \".. _iris_dataset:\\n\\nIris plants dataset\\n---------------…"
      ]
     },
     "execution_count": 6,
     "metadata": {},
     "output_type": "execute_result"
    }
   ],
   "source": [
    "# ScikitLearnパッケージを利用\n",
    "using ScikitLearn\n",
    "\n",
    "# from sklearn.datasets import load_iris\n",
    "@sk_import datasets: load_iris\n",
    "\n",
    "# irisデータセットをロード\n",
    "data = load_iris()"
   ]
  },
  {
   "cell_type": "code",
   "execution_count": 27,
   "metadata": {},
   "outputs": [
    {
     "data": {
      "text/html": [
       "<table class=\"data-frame\"><thead><tr><th></th><th>sepal length (cm)</th><th>sepal width (cm)</th><th>petal length (cm)</th><th>petal width (cm)</th></tr><tr><th></th><th>Float64</th><th>Float64</th><th>Float64</th><th>Float64</th></tr></thead><tbody><p>150 rows × 4 columns</p><tr><th>1</th><td>5.1</td><td>3.5</td><td>1.4</td><td>0.2</td></tr><tr><th>2</th><td>4.9</td><td>3.0</td><td>1.4</td><td>0.2</td></tr><tr><th>3</th><td>4.7</td><td>3.2</td><td>1.3</td><td>0.2</td></tr><tr><th>4</th><td>4.6</td><td>3.1</td><td>1.5</td><td>0.2</td></tr><tr><th>5</th><td>5.0</td><td>3.6</td><td>1.4</td><td>0.2</td></tr><tr><th>6</th><td>5.4</td><td>3.9</td><td>1.7</td><td>0.4</td></tr><tr><th>7</th><td>4.6</td><td>3.4</td><td>1.4</td><td>0.3</td></tr><tr><th>8</th><td>5.0</td><td>3.4</td><td>1.5</td><td>0.2</td></tr><tr><th>9</th><td>4.4</td><td>2.9</td><td>1.4</td><td>0.2</td></tr><tr><th>10</th><td>4.9</td><td>3.1</td><td>1.5</td><td>0.1</td></tr><tr><th>11</th><td>5.4</td><td>3.7</td><td>1.5</td><td>0.2</td></tr><tr><th>12</th><td>4.8</td><td>3.4</td><td>1.6</td><td>0.2</td></tr><tr><th>13</th><td>4.8</td><td>3.0</td><td>1.4</td><td>0.1</td></tr><tr><th>14</th><td>4.3</td><td>3.0</td><td>1.1</td><td>0.1</td></tr><tr><th>15</th><td>5.8</td><td>4.0</td><td>1.2</td><td>0.2</td></tr><tr><th>16</th><td>5.7</td><td>4.4</td><td>1.5</td><td>0.4</td></tr><tr><th>17</th><td>5.4</td><td>3.9</td><td>1.3</td><td>0.4</td></tr><tr><th>18</th><td>5.1</td><td>3.5</td><td>1.4</td><td>0.3</td></tr><tr><th>19</th><td>5.7</td><td>3.8</td><td>1.7</td><td>0.3</td></tr><tr><th>20</th><td>5.1</td><td>3.8</td><td>1.5</td><td>0.3</td></tr><tr><th>21</th><td>5.4</td><td>3.4</td><td>1.7</td><td>0.2</td></tr><tr><th>22</th><td>5.1</td><td>3.7</td><td>1.5</td><td>0.4</td></tr><tr><th>23</th><td>4.6</td><td>3.6</td><td>1.0</td><td>0.2</td></tr><tr><th>24</th><td>5.1</td><td>3.3</td><td>1.7</td><td>0.5</td></tr><tr><th>25</th><td>4.8</td><td>3.4</td><td>1.9</td><td>0.2</td></tr><tr><th>26</th><td>5.0</td><td>3.0</td><td>1.6</td><td>0.2</td></tr><tr><th>27</th><td>5.0</td><td>3.4</td><td>1.6</td><td>0.4</td></tr><tr><th>28</th><td>5.2</td><td>3.5</td><td>1.5</td><td>0.2</td></tr><tr><th>29</th><td>5.2</td><td>3.4</td><td>1.4</td><td>0.2</td></tr><tr><th>30</th><td>4.7</td><td>3.2</td><td>1.6</td><td>0.2</td></tr><tr><th>&vellip;</th><td>&vellip;</td><td>&vellip;</td><td>&vellip;</td><td>&vellip;</td></tr></tbody></table>"
      ],
      "text/latex": [
       "\\begin{tabular}{r|cccc}\n",
       "\t& sepal length (cm) & sepal width (cm) & petal length (cm) & petal width (cm)\\\\\n",
       "\t\\hline\n",
       "\t& Float64 & Float64 & Float64 & Float64\\\\\n",
       "\t\\hline\n",
       "\t1 & 5.1 & 3.5 & 1.4 & 0.2 \\\\\n",
       "\t2 & 4.9 & 3.0 & 1.4 & 0.2 \\\\\n",
       "\t3 & 4.7 & 3.2 & 1.3 & 0.2 \\\\\n",
       "\t4 & 4.6 & 3.1 & 1.5 & 0.2 \\\\\n",
       "\t5 & 5.0 & 3.6 & 1.4 & 0.2 \\\\\n",
       "\t6 & 5.4 & 3.9 & 1.7 & 0.4 \\\\\n",
       "\t7 & 4.6 & 3.4 & 1.4 & 0.3 \\\\\n",
       "\t8 & 5.0 & 3.4 & 1.5 & 0.2 \\\\\n",
       "\t9 & 4.4 & 2.9 & 1.4 & 0.2 \\\\\n",
       "\t10 & 4.9 & 3.1 & 1.5 & 0.1 \\\\\n",
       "\t11 & 5.4 & 3.7 & 1.5 & 0.2 \\\\\n",
       "\t12 & 4.8 & 3.4 & 1.6 & 0.2 \\\\\n",
       "\t13 & 4.8 & 3.0 & 1.4 & 0.1 \\\\\n",
       "\t14 & 4.3 & 3.0 & 1.1 & 0.1 \\\\\n",
       "\t15 & 5.8 & 4.0 & 1.2 & 0.2 \\\\\n",
       "\t16 & 5.7 & 4.4 & 1.5 & 0.4 \\\\\n",
       "\t17 & 5.4 & 3.9 & 1.3 & 0.4 \\\\\n",
       "\t18 & 5.1 & 3.5 & 1.4 & 0.3 \\\\\n",
       "\t19 & 5.7 & 3.8 & 1.7 & 0.3 \\\\\n",
       "\t20 & 5.1 & 3.8 & 1.5 & 0.3 \\\\\n",
       "\t21 & 5.4 & 3.4 & 1.7 & 0.2 \\\\\n",
       "\t22 & 5.1 & 3.7 & 1.5 & 0.4 \\\\\n",
       "\t23 & 4.6 & 3.6 & 1.0 & 0.2 \\\\\n",
       "\t24 & 5.1 & 3.3 & 1.7 & 0.5 \\\\\n",
       "\t25 & 4.8 & 3.4 & 1.9 & 0.2 \\\\\n",
       "\t26 & 5.0 & 3.0 & 1.6 & 0.2 \\\\\n",
       "\t27 & 5.0 & 3.4 & 1.6 & 0.4 \\\\\n",
       "\t28 & 5.2 & 3.5 & 1.5 & 0.2 \\\\\n",
       "\t29 & 5.2 & 3.4 & 1.4 & 0.2 \\\\\n",
       "\t30 & 4.7 & 3.2 & 1.6 & 0.2 \\\\\n",
       "\t$\\dots$ & $\\dots$ & $\\dots$ & $\\dots$ & $\\dots$ \\\\\n",
       "\\end{tabular}\n"
      ],
      "text/plain": [
       "150×4 DataFrame. Omitted printing of 1 columns\n",
       "│ Row │ sepal length (cm) │ sepal width (cm) │ petal length (cm) │\n",
       "│     │ \u001b[90mFloat64\u001b[39m           │ \u001b[90mFloat64\u001b[39m          │ \u001b[90mFloat64\u001b[39m           │\n",
       "├─────┼───────────────────┼──────────────────┼───────────────────┤\n",
       "│ 1   │ 5.1               │ 3.5              │ 1.4               │\n",
       "│ 2   │ 4.9               │ 3.0              │ 1.4               │\n",
       "│ 3   │ 4.7               │ 3.2              │ 1.3               │\n",
       "│ 4   │ 4.6               │ 3.1              │ 1.5               │\n",
       "│ 5   │ 5.0               │ 3.6              │ 1.4               │\n",
       "│ 6   │ 5.4               │ 3.9              │ 1.7               │\n",
       "│ 7   │ 4.6               │ 3.4              │ 1.4               │\n",
       "│ 8   │ 5.0               │ 3.4              │ 1.5               │\n",
       "│ 9   │ 4.4               │ 2.9              │ 1.4               │\n",
       "│ 10  │ 4.9               │ 3.1              │ 1.5               │\n",
       "⋮\n",
       "│ 140 │ 6.9               │ 3.1              │ 5.4               │\n",
       "│ 141 │ 6.7               │ 3.1              │ 5.6               │\n",
       "│ 142 │ 6.9               │ 3.1              │ 5.1               │\n",
       "│ 143 │ 5.8               │ 2.7              │ 5.1               │\n",
       "│ 144 │ 6.8               │ 3.2              │ 5.9               │\n",
       "│ 145 │ 6.7               │ 3.3              │ 5.7               │\n",
       "│ 146 │ 6.7               │ 3.0              │ 5.2               │\n",
       "│ 147 │ 6.3               │ 2.5              │ 5.0               │\n",
       "│ 148 │ 6.5               │ 3.0              │ 5.2               │\n",
       "│ 149 │ 6.2               │ 3.4              │ 5.4               │\n",
       "│ 150 │ 5.9               │ 3.0              │ 5.1               │"
      ]
     },
     "execution_count": 27,
     "metadata": {},
     "output_type": "execute_result"
    }
   ],
   "source": [
    "# DataFramesパッケージを利用\n",
    "using DataFrames: DataFrame, names!\n",
    "\n",
    "# 特徴データをDataFrame化\n",
    "X = DataFrame(data[\"data\"])\n",
    "\n",
    "# 列名を特徴量名に変更\n",
    "## JuliaのDataFrameは、列名をSymbol型にしなければならない\n",
    "names!(X, map(name -> Symbol(name), data[\"feature_names\"]))"
   ]
  },
  {
   "cell_type": "code",
   "execution_count": 28,
   "metadata": {},
   "outputs": [
    {
     "data": {
      "text/html": [
       "<table class=\"data-frame\"><thead><tr><th></th><th>Species</th></tr><tr><th></th><th>Int32</th></tr></thead><tbody><p>150 rows × 1 columns</p><tr><th>1</th><td>0</td></tr><tr><th>2</th><td>0</td></tr><tr><th>3</th><td>0</td></tr><tr><th>4</th><td>0</td></tr><tr><th>5</th><td>0</td></tr><tr><th>6</th><td>0</td></tr><tr><th>7</th><td>0</td></tr><tr><th>8</th><td>0</td></tr><tr><th>9</th><td>0</td></tr><tr><th>10</th><td>0</td></tr><tr><th>11</th><td>0</td></tr><tr><th>12</th><td>0</td></tr><tr><th>13</th><td>0</td></tr><tr><th>14</th><td>0</td></tr><tr><th>15</th><td>0</td></tr><tr><th>16</th><td>0</td></tr><tr><th>17</th><td>0</td></tr><tr><th>18</th><td>0</td></tr><tr><th>19</th><td>0</td></tr><tr><th>20</th><td>0</td></tr><tr><th>21</th><td>0</td></tr><tr><th>22</th><td>0</td></tr><tr><th>23</th><td>0</td></tr><tr><th>24</th><td>0</td></tr><tr><th>25</th><td>0</td></tr><tr><th>26</th><td>0</td></tr><tr><th>27</th><td>0</td></tr><tr><th>28</th><td>0</td></tr><tr><th>29</th><td>0</td></tr><tr><th>30</th><td>0</td></tr><tr><th>&vellip;</th><td>&vellip;</td></tr></tbody></table>"
      ],
      "text/latex": [
       "\\begin{tabular}{r|c}\n",
       "\t& Species\\\\\n",
       "\t\\hline\n",
       "\t& Int32\\\\\n",
       "\t\\hline\n",
       "\t1 & 0 \\\\\n",
       "\t2 & 0 \\\\\n",
       "\t3 & 0 \\\\\n",
       "\t4 & 0 \\\\\n",
       "\t5 & 0 \\\\\n",
       "\t6 & 0 \\\\\n",
       "\t7 & 0 \\\\\n",
       "\t8 & 0 \\\\\n",
       "\t9 & 0 \\\\\n",
       "\t10 & 0 \\\\\n",
       "\t11 & 0 \\\\\n",
       "\t12 & 0 \\\\\n",
       "\t13 & 0 \\\\\n",
       "\t14 & 0 \\\\\n",
       "\t15 & 0 \\\\\n",
       "\t16 & 0 \\\\\n",
       "\t17 & 0 \\\\\n",
       "\t18 & 0 \\\\\n",
       "\t19 & 0 \\\\\n",
       "\t20 & 0 \\\\\n",
       "\t21 & 0 \\\\\n",
       "\t22 & 0 \\\\\n",
       "\t23 & 0 \\\\\n",
       "\t24 & 0 \\\\\n",
       "\t25 & 0 \\\\\n",
       "\t26 & 0 \\\\\n",
       "\t27 & 0 \\\\\n",
       "\t28 & 0 \\\\\n",
       "\t29 & 0 \\\\\n",
       "\t30 & 0 \\\\\n",
       "\t$\\dots$ & $\\dots$ \\\\\n",
       "\\end{tabular}\n"
      ],
      "text/plain": [
       "150×1 DataFrame\n",
       "│ Row │ Species │\n",
       "│     │ \u001b[90mInt32\u001b[39m   │\n",
       "├─────┼─────────┤\n",
       "│ 1   │ 0       │\n",
       "│ 2   │ 0       │\n",
       "│ 3   │ 0       │\n",
       "│ 4   │ 0       │\n",
       "│ 5   │ 0       │\n",
       "│ 6   │ 0       │\n",
       "│ 7   │ 0       │\n",
       "│ 8   │ 0       │\n",
       "│ 9   │ 0       │\n",
       "│ 10  │ 0       │\n",
       "⋮\n",
       "│ 140 │ 2       │\n",
       "│ 141 │ 2       │\n",
       "│ 142 │ 2       │\n",
       "│ 143 │ 2       │\n",
       "│ 144 │ 2       │\n",
       "│ 145 │ 2       │\n",
       "│ 146 │ 2       │\n",
       "│ 147 │ 2       │\n",
       "│ 148 │ 2       │\n",
       "│ 149 │ 2       │\n",
       "│ 150 │ 2       │"
      ]
     },
     "execution_count": 28,
     "metadata": {},
     "output_type": "execute_result"
    }
   ],
   "source": [
    "# 目的変数をDataFrame化\n",
    "y = DataFrame(Species=data[\"target\"])"
   ]
  },
  {
   "cell_type": "code",
   "execution_count": 30,
   "metadata": {},
   "outputs": [
    {
     "data": {
      "text/html": [
       "<table class=\"data-frame\"><thead><tr><th></th><th>sepal length (cm)</th><th>sepal width (cm)</th><th>petal length (cm)</th><th>petal width (cm)</th><th>Species</th></tr><tr><th></th><th>Float64</th><th>Float64</th><th>Float64</th><th>Float64</th><th>Int32</th></tr></thead><tbody><p>150 rows × 5 columns</p><tr><th>1</th><td>5.1</td><td>3.5</td><td>1.4</td><td>0.2</td><td>0</td></tr><tr><th>2</th><td>4.9</td><td>3.0</td><td>1.4</td><td>0.2</td><td>0</td></tr><tr><th>3</th><td>4.7</td><td>3.2</td><td>1.3</td><td>0.2</td><td>0</td></tr><tr><th>4</th><td>4.6</td><td>3.1</td><td>1.5</td><td>0.2</td><td>0</td></tr><tr><th>5</th><td>5.0</td><td>3.6</td><td>1.4</td><td>0.2</td><td>0</td></tr><tr><th>6</th><td>5.4</td><td>3.9</td><td>1.7</td><td>0.4</td><td>0</td></tr><tr><th>7</th><td>4.6</td><td>3.4</td><td>1.4</td><td>0.3</td><td>0</td></tr><tr><th>8</th><td>5.0</td><td>3.4</td><td>1.5</td><td>0.2</td><td>0</td></tr><tr><th>9</th><td>4.4</td><td>2.9</td><td>1.4</td><td>0.2</td><td>0</td></tr><tr><th>10</th><td>4.9</td><td>3.1</td><td>1.5</td><td>0.1</td><td>0</td></tr><tr><th>11</th><td>5.4</td><td>3.7</td><td>1.5</td><td>0.2</td><td>0</td></tr><tr><th>12</th><td>4.8</td><td>3.4</td><td>1.6</td><td>0.2</td><td>0</td></tr><tr><th>13</th><td>4.8</td><td>3.0</td><td>1.4</td><td>0.1</td><td>0</td></tr><tr><th>14</th><td>4.3</td><td>3.0</td><td>1.1</td><td>0.1</td><td>0</td></tr><tr><th>15</th><td>5.8</td><td>4.0</td><td>1.2</td><td>0.2</td><td>0</td></tr><tr><th>16</th><td>5.7</td><td>4.4</td><td>1.5</td><td>0.4</td><td>0</td></tr><tr><th>17</th><td>5.4</td><td>3.9</td><td>1.3</td><td>0.4</td><td>0</td></tr><tr><th>18</th><td>5.1</td><td>3.5</td><td>1.4</td><td>0.3</td><td>0</td></tr><tr><th>19</th><td>5.7</td><td>3.8</td><td>1.7</td><td>0.3</td><td>0</td></tr><tr><th>20</th><td>5.1</td><td>3.8</td><td>1.5</td><td>0.3</td><td>0</td></tr><tr><th>21</th><td>5.4</td><td>3.4</td><td>1.7</td><td>0.2</td><td>0</td></tr><tr><th>22</th><td>5.1</td><td>3.7</td><td>1.5</td><td>0.4</td><td>0</td></tr><tr><th>23</th><td>4.6</td><td>3.6</td><td>1.0</td><td>0.2</td><td>0</td></tr><tr><th>24</th><td>5.1</td><td>3.3</td><td>1.7</td><td>0.5</td><td>0</td></tr><tr><th>25</th><td>4.8</td><td>3.4</td><td>1.9</td><td>0.2</td><td>0</td></tr><tr><th>26</th><td>5.0</td><td>3.0</td><td>1.6</td><td>0.2</td><td>0</td></tr><tr><th>27</th><td>5.0</td><td>3.4</td><td>1.6</td><td>0.4</td><td>0</td></tr><tr><th>28</th><td>5.2</td><td>3.5</td><td>1.5</td><td>0.2</td><td>0</td></tr><tr><th>29</th><td>5.2</td><td>3.4</td><td>1.4</td><td>0.2</td><td>0</td></tr><tr><th>30</th><td>4.7</td><td>3.2</td><td>1.6</td><td>0.2</td><td>0</td></tr><tr><th>&vellip;</th><td>&vellip;</td><td>&vellip;</td><td>&vellip;</td><td>&vellip;</td><td>&vellip;</td></tr></tbody></table>"
      ],
      "text/latex": [
       "\\begin{tabular}{r|ccccc}\n",
       "\t& sepal length (cm) & sepal width (cm) & petal length (cm) & petal width (cm) & Species\\\\\n",
       "\t\\hline\n",
       "\t& Float64 & Float64 & Float64 & Float64 & Int32\\\\\n",
       "\t\\hline\n",
       "\t1 & 5.1 & 3.5 & 1.4 & 0.2 & 0 \\\\\n",
       "\t2 & 4.9 & 3.0 & 1.4 & 0.2 & 0 \\\\\n",
       "\t3 & 4.7 & 3.2 & 1.3 & 0.2 & 0 \\\\\n",
       "\t4 & 4.6 & 3.1 & 1.5 & 0.2 & 0 \\\\\n",
       "\t5 & 5.0 & 3.6 & 1.4 & 0.2 & 0 \\\\\n",
       "\t6 & 5.4 & 3.9 & 1.7 & 0.4 & 0 \\\\\n",
       "\t7 & 4.6 & 3.4 & 1.4 & 0.3 & 0 \\\\\n",
       "\t8 & 5.0 & 3.4 & 1.5 & 0.2 & 0 \\\\\n",
       "\t9 & 4.4 & 2.9 & 1.4 & 0.2 & 0 \\\\\n",
       "\t10 & 4.9 & 3.1 & 1.5 & 0.1 & 0 \\\\\n",
       "\t11 & 5.4 & 3.7 & 1.5 & 0.2 & 0 \\\\\n",
       "\t12 & 4.8 & 3.4 & 1.6 & 0.2 & 0 \\\\\n",
       "\t13 & 4.8 & 3.0 & 1.4 & 0.1 & 0 \\\\\n",
       "\t14 & 4.3 & 3.0 & 1.1 & 0.1 & 0 \\\\\n",
       "\t15 & 5.8 & 4.0 & 1.2 & 0.2 & 0 \\\\\n",
       "\t16 & 5.7 & 4.4 & 1.5 & 0.4 & 0 \\\\\n",
       "\t17 & 5.4 & 3.9 & 1.3 & 0.4 & 0 \\\\\n",
       "\t18 & 5.1 & 3.5 & 1.4 & 0.3 & 0 \\\\\n",
       "\t19 & 5.7 & 3.8 & 1.7 & 0.3 & 0 \\\\\n",
       "\t20 & 5.1 & 3.8 & 1.5 & 0.3 & 0 \\\\\n",
       "\t21 & 5.4 & 3.4 & 1.7 & 0.2 & 0 \\\\\n",
       "\t22 & 5.1 & 3.7 & 1.5 & 0.4 & 0 \\\\\n",
       "\t23 & 4.6 & 3.6 & 1.0 & 0.2 & 0 \\\\\n",
       "\t24 & 5.1 & 3.3 & 1.7 & 0.5 & 0 \\\\\n",
       "\t25 & 4.8 & 3.4 & 1.9 & 0.2 & 0 \\\\\n",
       "\t26 & 5.0 & 3.0 & 1.6 & 0.2 & 0 \\\\\n",
       "\t27 & 5.0 & 3.4 & 1.6 & 0.4 & 0 \\\\\n",
       "\t28 & 5.2 & 3.5 & 1.5 & 0.2 & 0 \\\\\n",
       "\t29 & 5.2 & 3.4 & 1.4 & 0.2 & 0 \\\\\n",
       "\t30 & 4.7 & 3.2 & 1.6 & 0.2 & 0 \\\\\n",
       "\t$\\dots$ & $\\dots$ & $\\dots$ & $\\dots$ & $\\dots$ & $\\dots$ \\\\\n",
       "\\end{tabular}\n"
      ],
      "text/plain": [
       "150×5 DataFrame. Omitted printing of 2 columns\n",
       "│ Row │ sepal length (cm) │ sepal width (cm) │ petal length (cm) │\n",
       "│     │ \u001b[90mFloat64\u001b[39m           │ \u001b[90mFloat64\u001b[39m          │ \u001b[90mFloat64\u001b[39m           │\n",
       "├─────┼───────────────────┼──────────────────┼───────────────────┤\n",
       "│ 1   │ 5.1               │ 3.5              │ 1.4               │\n",
       "│ 2   │ 4.9               │ 3.0              │ 1.4               │\n",
       "│ 3   │ 4.7               │ 3.2              │ 1.3               │\n",
       "│ 4   │ 4.6               │ 3.1              │ 1.5               │\n",
       "│ 5   │ 5.0               │ 3.6              │ 1.4               │\n",
       "│ 6   │ 5.4               │ 3.9              │ 1.7               │\n",
       "│ 7   │ 4.6               │ 3.4              │ 1.4               │\n",
       "│ 8   │ 5.0               │ 3.4              │ 1.5               │\n",
       "│ 9   │ 4.4               │ 2.9              │ 1.4               │\n",
       "│ 10  │ 4.9               │ 3.1              │ 1.5               │\n",
       "⋮\n",
       "│ 140 │ 6.9               │ 3.1              │ 5.4               │\n",
       "│ 141 │ 6.7               │ 3.1              │ 5.6               │\n",
       "│ 142 │ 6.9               │ 3.1              │ 5.1               │\n",
       "│ 143 │ 5.8               │ 2.7              │ 5.1               │\n",
       "│ 144 │ 6.8               │ 3.2              │ 5.9               │\n",
       "│ 145 │ 6.7               │ 3.3              │ 5.7               │\n",
       "│ 146 │ 6.7               │ 3.0              │ 5.2               │\n",
       "│ 147 │ 6.3               │ 2.5              │ 5.0               │\n",
       "│ 148 │ 6.5               │ 3.0              │ 5.2               │\n",
       "│ 149 │ 6.2               │ 3.4              │ 5.4               │\n",
       "│ 150 │ 5.9               │ 3.0              │ 5.1               │"
      ]
     },
     "execution_count": 30,
     "metadata": {},
     "output_type": "execute_result"
    }
   ],
   "source": [
    "# 特徴量データと目的変数データを結合し、一つのDataFrameにする\n",
    "df = hcat(X, y)"
   ]
  },
  {
   "cell_type": "code",
   "execution_count": null,
   "metadata": {},
   "outputs": [],
   "source": []
  }
 ],
 "metadata": {
  "kernelspec": {
   "display_name": "Julia 1.1.1",
   "language": "julia",
   "name": "julia-1.1"
  },
  "language_info": {
   "file_extension": ".jl",
   "mimetype": "application/julia",
   "name": "julia",
   "version": "1.1.1"
  }
 },
 "nbformat": 4,
 "nbformat_minor": 2
}
