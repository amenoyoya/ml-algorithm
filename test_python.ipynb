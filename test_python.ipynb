{
 "cells": [
  {
   "cell_type": "code",
   "execution_count": 10,
   "metadata": {},
   "outputs": [
    {
     "name": "stdout",
     "output_type": "stream",
     "text": [
      "x: (2,) [0.6 0.9]\n",
      "t: (3,) [0 0 1]\n",
      "weight: (2, 3) [[0. 0. 0.]\n",
      " [0. 0. 0.]]\n",
      "loss: () 1.0986319890621572\n",
      "loss: () 1.098591989074152\n",
      "loss: () 1.0986319890621572\n",
      "loss: () 1.098591989074152\n",
      "loss: () 1.098571989080157\n",
      "loss: () 1.0986519890561517\n",
      "loss: () 1.0986419895591633\n",
      "loss: () 1.0985819895771454\n",
      "loss: () 1.0986419895591633\n",
      "loss: () 1.0985819895771454\n",
      "loss: () 1.0985519895861628\n",
      "loss: () 1.098671989550145\n",
      "(2, 3) [[ 0.19999994  0.19999994 -0.39999988]\n",
      " [ 0.29999991  0.29999991 -0.59999982]]\n"
     ]
    }
   ],
   "source": [
    "\"\"\"\n",
    "@test: シンプルニューラルネットワーク\n",
    "\"\"\"\n",
    "\n",
    "import numpy as np\n",
    "from common.functions import softmax, cross_entropy_error\n",
    "from common.gradient import numerical_gradient\n",
    "\n",
    "class simpleNet:\n",
    "    def __init__(self):\n",
    "        self.W = np.zeros((2, 3)) # 2 x 3 Array{Float64, 2}\n",
    "\n",
    "    def predict(self, x):\n",
    "        return np.dot(x, self.W)\n",
    "\n",
    "    def loss(self, x, t):\n",
    "        z = self.predict(x)\n",
    "        y = softmax(z)\n",
    "        loss = cross_entropy_error(y, t)\n",
    "        print('loss:', loss.shape, loss)\n",
    "        return loss\n",
    "\n",
    "x = np.array([0.6, 0.9])\n",
    "t = np.array([0, 0, 1])\n",
    "\n",
    "print('x:', x.shape, x)\n",
    "print('t:', t.shape, t)\n",
    "\n",
    "net = simpleNet()\n",
    "\n",
    "print('weight:', net.W.shape, net.W)\n",
    "\n",
    "f = lambda w: net.loss(x, t)\n",
    "dW = numerical_gradient(f, net.W)\n",
    "print(dW.shape, dW)"
   ]
  },
  {
   "cell_type": "code",
   "execution_count": null,
   "metadata": {},
   "outputs": [],
   "source": []
  }
 ],
 "metadata": {
  "kernelspec": {
   "display_name": "Python 3",
   "language": "python",
   "name": "python3"
  },
  "language_info": {
   "codemirror_mode": {
    "name": "ipython",
    "version": 3
   },
   "file_extension": ".py",
   "mimetype": "text/x-python",
   "name": "python",
   "nbconvert_exporter": "python",
   "pygments_lexer": "ipython3",
   "version": "3.7.4"
  }
 },
 "nbformat": 4,
 "nbformat_minor": 2
}
