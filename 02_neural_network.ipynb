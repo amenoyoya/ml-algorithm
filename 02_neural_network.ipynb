{
 "cells": [
  {
   "cell_type": "markdown",
   "metadata": {},
   "source": [
    "# ニューラルネットワーク\n",
    "\n",
    "## パーセプトロンからニューラルネットワークへ\n",
    "\n",
    "パーセプトロンを再び考える\n",
    "\n",
    "![perceptron0](./img/perceptron0.png)\n",
    "\n",
    "ここでバイアスについて、重みがbで値が1固定の入力信号であると考えると、以下のように変形できる\n",
    "\n",
    "![perceptron_bias](./img/perceptron_bias.png)\n",
    "\n",
    "これによって、パーセプトロンの式を $入力値×重み$ に統一することができる（$a = \\sum_{i=1}^n x_i*w_i$）\n",
    "\n",
    "さらに、出力値 $y$ を得るための処理として、パーセプトロンでは $a \\leqq 0 → 0$ ｜ $a > 0 → 1$ という条件分岐を行っている\n",
    "\n",
    "このように、入力信号の総和を出力信号に変換するための処理関数を**活性化関数**と呼び、$h(a)$ で表す\n",
    "\n",
    "つまり、パーセプトロンにおける活性化関数は `h(a) = 0 if a <= 0 else 1` と表現できる\n",
    "\n",
    "このように、特定条件で0から1へ突然出力値が変わるような活性化関数を**ステップ関数**と呼ぶ\n",
    "\n",
    "![perceptron_h](./img/perceptron_h.png)"
   ]
  },
  {
   "cell_type": "code",
   "execution_count": null,
   "metadata": {},
   "outputs": [],
   "source": []
  }
 ],
 "metadata": {
  "kernelspec": {
   "display_name": "Julia 1.1.1",
   "language": "julia",
   "name": "julia-1.1"
  },
  "language_info": {
   "file_extension": ".jl",
   "mimetype": "application/julia",
   "name": "julia",
   "version": "1.1.1"
  }
 },
 "nbformat": 4,
 "nbformat_minor": 2
}
